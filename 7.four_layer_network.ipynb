{
 "cells": [
  {
   "cell_type": "code",
   "execution_count": 20,
   "metadata": {},
   "outputs": [
    {
     "name": "stdout",
     "output_type": "stream",
     "text": [
      "Extracting /tmp/data/train-images-idx3-ubyte.gz\n",
      "Extracting /tmp/data/train-labels-idx1-ubyte.gz\n",
      "Extracting /tmp/data/t10k-images-idx3-ubyte.gz\n",
      "Extracting /tmp/data/t10k-labels-idx1-ubyte.gz\n",
      "['__class__', '__delattr__', '__dict__', '__doc__', '__format__', '__getattribute__', '__hash__', '__init__', '__module__', '__new__', '__reduce__', '__reduce_ex__', '__repr__', '__setattr__', '__sizeof__', '__str__', '__subclasshook__', '__weakref__', '_epochs_completed', '_images', '_index_in_epoch', '_labels', '_num_examples', 'epochs_completed', 'images', 'labels', 'next_batch', 'num_examples']\n"
     ]
    }
   ],
   "source": [
    "import tensorflow as tf\n",
    "from tensorflow.examples.tutorials.mnist import input_data\n",
    "mnist = input_data.read_data_sets(\"/tmp/data/\",one_hot=True)\n",
    "\n",
    "print dir(mnist.train)"
   ]
  },
  {
   "cell_type": "code",
   "execution_count": 11,
   "metadata": {},
   "outputs": [
    {
     "name": "stdout",
     "output_type": "stream",
     "text": [
      "Extracting /tmp/data/train-images-idx3-ubyte.gz\n",
      "Extracting /tmp/data/train-labels-idx1-ubyte.gz\n",
      "Extracting /tmp/data/t10k-images-idx3-ubyte.gz\n",
      "Extracting /tmp/data/t10k-labels-idx1-ubyte.gz\n",
      "('Epoch', 0, ' completed out of ', 20, ' loss: ', 1558519.4508209229)\n",
      "('Epoch', 1, ' completed out of ', 20, ' loss: ', 382528.66959762573)\n",
      "('Epoch', 2, ' completed out of ', 20, ' loss: ', 208872.97538542747)\n",
      "('Epoch', 3, ' completed out of ', 20, ' loss: ', 117909.89642131329)\n",
      "('Epoch', 4, ' completed out of ', 20, ' loss: ', 74608.924476648564)\n",
      "('Epoch', 5, ' completed out of ', 20, ' loss: ', 45785.540639303625)\n",
      "('Epoch', 6, ' completed out of ', 20, ' loss: ', 31631.547663347927)\n",
      "('Epoch', 7, ' completed out of ', 20, ' loss: ', 26019.947611088173)\n",
      "('Epoch', 8, ' completed out of ', 20, ' loss: ', 19330.175087739794)\n",
      "('Epoch', 9, ' completed out of ', 20, ' loss: ', 15972.421611458063)\n",
      "('Epoch', 10, ' completed out of ', 20, ' loss: ', 18158.96482214157)\n",
      "('Epoch', 11, ' completed out of ', 20, ' loss: ', 14635.078787293285)\n",
      "('Epoch', 12, ' completed out of ', 20, ' loss: ', 13704.913560540172)\n",
      "('Epoch', 13, ' completed out of ', 20, ' loss: ', 12400.497106966097)\n",
      "('Epoch', 14, ' completed out of ', 20, ' loss: ', 12153.040139556459)\n",
      "('Epoch', 15, ' completed out of ', 20, ' loss: ', 9421.6862334954749)\n",
      "('Epoch', 16, ' completed out of ', 20, ' loss: ', 10949.960153911201)\n",
      "('Epoch', 17, ' completed out of ', 20, ' loss: ', 10950.709692642093)\n",
      "('Epoch', 18, ' completed out of ', 20, ' loss: ', 9236.0323418518528)\n",
      "('Epoch', 19, ' completed out of ', 20, ' loss: ', 9701.7692485002481)\n",
      "('Accuracy : ', 0.95779997)\n"
     ]
    }
   ],
   "source": [
    "x = tf.placeholder(tf.float32, shape=[None, 784])\n",
    "y_ = tf.placeholder(tf.float32, shape=[None, 10])\n",
    "\n",
    "h1_nodes = 600\n",
    "h2_nodes = 500\n",
    "h3_nodes = 400\n",
    "output_nodes = 10\n",
    "batch_size = 100\n",
    "\n",
    "def define_model(data):\n",
    "    hidden_layer1 = {\n",
    "        'weights': tf.Variable(tf.random_normal([784, h1_nodes])),\n",
    "        'biases' : tf.Variable(tf.random_normal([h1_nodes]))\n",
    "    }\n",
    "    hidden_layer2 = {\n",
    "        'weights' : tf.Variable(tf.random_normal([h1_nodes, h2_nodes])),\n",
    "        'biases'  : tf.Variable(tf.random_normal([h2_nodes])) \n",
    "    }\n",
    "    \n",
    "    hidden_layer3 = {\n",
    "        'weights' : tf.Variable(tf.random_normal([h2_nodes, h3_nodes])),\n",
    "        'biases'  : tf.Variable(tf.random_normal([h3_nodes]))\n",
    "    }\n",
    "    output_layer = {\n",
    "        'weights' : tf.Variable(tf.random_normal([h3_nodes, output_nodes])),\n",
    "        'biases'  : tf.Variable(tf.random_normal([output_nodes]))\n",
    "    }\n",
    "    \n",
    "    operation_h1 = tf.add(tf.matmul(data, hidden_layer1['weights']), hidden_layer1['biases'])\n",
    "    operation_h1 = tf.nn.relu(operation_h1)\n",
    "    \n",
    "    operation_h2 = tf.add(tf.matmul(operation_h1, hidden_layer2['weights']), hidden_layer2['biases'])\n",
    "    operation_h2 = tf.nn.relu(operation_h2)\n",
    "    \n",
    "    operation_h3 = tf.add(tf.matmul(operation_h2, hidden_layer3['weights']), hidden_layer3['biases'])\n",
    "    operation_h3 = tf.nn.relu(operation_h3)\n",
    "    \n",
    "    output = tf.add(tf.matmul(operation_h3, output_layer['weights']), output_layer['biases'])\n",
    "    \n",
    "    return output\n",
    "\n",
    "def training(features):\n",
    "    prediction = define_model(features)\n",
    "    loss = tf.reduce_mean(tf.nn.softmax_cross_entropy_with_logits(logits=prediction, labels=y_))\n",
    "    optimizer = tf.train.AdamOptimizer().minimize(loss)\n",
    "    \n",
    "    num_epochs = 20\n",
    "    with tf.Session() as sess:\n",
    "        sess.run(tf.global_variables_initializer())\n",
    "        for epoch in range(num_epochs):\n",
    "            epoch_loss = 0\n",
    "            for _ in range(int(mnist.train.num_examples / batch_size)):\n",
    "                batch_x, batch_y = mnist.train.next_batch(batch_size)\n",
    "                _, c = sess.run([optimizer, loss], feed_dict={x:batch_x, y_:batch_y})\n",
    "                epoch_loss += c\n",
    "            \n",
    "            print('Epoch', epoch, ' completed out of ', num_epochs, ' loss: ', epoch_loss)\n",
    "            \n",
    "        correct = tf.equal(tf.argmax(prediction, 1), tf.argmax(y_, 1))\n",
    "        accuracy = tf.reduce_mean(tf.cast(correct, 'float32'))\n",
    "        print('Accuracy : ', accuracy.eval({x:mnist.test.images, y_:mnist.test.labels}))\n",
    "\n",
    "training(x)\n",
    "            \n",
    "            "
   ]
  }
 ],
 "metadata": {
  "kernelspec": {
   "display_name": "Python 2",
   "language": "python",
   "name": "python2"
  },
  "language_info": {
   "codemirror_mode": {
    "name": "ipython",
    "version": 2
   },
   "file_extension": ".py",
   "mimetype": "text/x-python",
   "name": "python",
   "nbconvert_exporter": "python",
   "pygments_lexer": "ipython2",
   "version": "2.7.12"
  }
 },
 "nbformat": 4,
 "nbformat_minor": 2
}
