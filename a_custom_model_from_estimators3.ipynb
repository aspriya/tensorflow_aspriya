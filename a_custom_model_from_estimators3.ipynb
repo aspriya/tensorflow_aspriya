{
 "cells": [
  {
   "cell_type": "code",
   "execution_count": 1,
   "metadata": {},
   "outputs": [
    {
     "name": "stdout",
     "output_type": "stream",
     "text": [
      "INFO:tensorflow:Using default config.\n",
      "WARNING:tensorflow:Using temporary folder as model directory: /tmp/tmpAIlbpH\n",
      "INFO:tensorflow:Using config: {'_save_checkpoints_secs': 600, '_session_config': None, '_keep_checkpoint_max': 5, '_tf_random_seed': 1, '_keep_checkpoint_every_n_hours': 10000, '_save_checkpoints_steps': None, '_model_dir': '/tmp/tmpAIlbpH', '_save_summary_steps': 100}\n",
      "INFO:tensorflow:Create CheckpointSaverHook.\n",
      "INFO:tensorflow:Saving checkpoints for 1 into /tmp/tmpAIlbpH/model.ckpt.\n",
      "INFO:tensorflow:loss = 10.8243056552, step = 1\n",
      "INFO:tensorflow:global_step/sec: 1209.01\n",
      "INFO:tensorflow:loss = 0.0105642405023, step = 101 (0.084 sec)\n",
      "INFO:tensorflow:global_step/sec: 1211.04\n",
      "INFO:tensorflow:loss = 0.00177422461116, step = 201 (0.083 sec)\n",
      "INFO:tensorflow:global_step/sec: 1329.52\n",
      "INFO:tensorflow:loss = 0.000414236417143, step = 301 (0.075 sec)\n",
      "INFO:tensorflow:global_step/sec: 1313.25\n",
      "INFO:tensorflow:loss = 6.07541732517e-05, step = 401 (0.076 sec)\n",
      "INFO:tensorflow:global_step/sec: 1152.3\n",
      "INFO:tensorflow:loss = 2.59884023775e-06, step = 501 (0.087 sec)\n",
      "INFO:tensorflow:global_step/sec: 1341.08\n",
      "INFO:tensorflow:loss = 1.80280584467e-07, step = 601 (0.075 sec)\n",
      "INFO:tensorflow:global_step/sec: 1338.1\n",
      "INFO:tensorflow:loss = 4.47591357508e-09, step = 701 (0.075 sec)\n",
      "INFO:tensorflow:global_step/sec: 922.33\n",
      "INFO:tensorflow:loss = 9.48002375561e-10, step = 801 (0.109 sec)\n",
      "INFO:tensorflow:global_step/sec: 904.617\n",
      "INFO:tensorflow:loss = 9.347686355e-11, step = 901 (0.110 sec)\n",
      "INFO:tensorflow:Saving checkpoints for 1000 into /tmp/tmpAIlbpH/model.ckpt.\n",
      "INFO:tensorflow:Loss for final step: 2.4244582995e-12.\n",
      "INFO:tensorflow:Starting evaluation at 2018-01-02-11:50:43\n",
      "INFO:tensorflow:Restoring parameters from /tmp/tmpAIlbpH/model.ckpt-1000\n",
      "INFO:tensorflow:Finished evaluation at 2018-01-02-11:50:44\n",
      "INFO:tensorflow:Saving dict for global step 1000: global_step = 1000, loss = 1.0333e-11\n",
      "INFO:tensorflow:Starting evaluation at 2018-01-02-11:50:44\n",
      "INFO:tensorflow:Restoring parameters from /tmp/tmpAIlbpH/model.ckpt-1000\n",
      "INFO:tensorflow:Finished evaluation at 2018-01-02-11:50:45\n",
      "INFO:tensorflow:Saving dict for global step 1000: global_step = 1000, loss = 0.0101003\n",
      "train metrics: {'loss': 1.0332988e-11, 'global_step': 1000}\n",
      "eval metrics: {'loss': 0.01010034, 'global_step': 1000}\n"
     ]
    }
   ],
   "source": [
    "import numpy as np\n",
    "import tensorflow as tf\n",
    "\n",
    "#make a model and declare a list of features (here we only going to have a one input feature called x)\n",
    "def model_fn(features, labels, mode):\n",
    "    #build a linear model and predic values\n",
    "    W = tf.get_variable(\"W\", [1], tf.float64)\n",
    "    b = tf.get_variable(\"b\", [1], tf.float64)\n",
    "    y = W * features['x'] + b\n",
    "    \n",
    "    #calculate loss (implement loss sub-graph)\n",
    "    loss = tf.reduce_sum(tf.square(y - labels))\n",
    "    \n",
    "    #training sub-graph\n",
    "    global_step = tf.train.get_global_step()\n",
    "    optimizer = tf.train.GradientDescentOptimizer(0.01)\n",
    "    train = tf.group(optimizer.minimize(loss), tf.assign_add(global_step, 1))\n",
    "\n",
    "    #EstimatorSpec connects subgraphs we built to the appropriate functionality.\n",
    "    return tf.estimator.EstimatorSpec(mode=mode, predictions=y, loss=loss, train_op=train)\n",
    "\n",
    "estimator = tf.estimator.Estimator(model_fn=model_fn)\n",
    "\n",
    "#define the data sets\n",
    "x_train = np.array([1., 2., 3., 4.])\n",
    "y_train = np.array([0., -1., -2., -3.])\n",
    "x_eval = np.array([2., 5., 8., 1.])\n",
    "y_eval = np.array([-1.01, -4.1, -7., 0.])\n",
    "\n",
    "input_fn = tf.estimator.inputs.numpy_input_fn({\"x\": x_train}, y_train, batch_size=4, num_epochs=None, shuffle=True)\n",
    "train_input_fn = tf.estimator.inputs.numpy_input_fn({\"x\": x_train}, y_train, batch_size=4, num_epochs=1000, shuffle=False)\n",
    "eval_input_fn = tf.estimator.inputs.numpy_input_fn({\"x\": x_eval}, y_eval, batch_size=4, num_epochs=1000, shuffle=False)\n",
    "\n",
    "# train\n",
    "estimator.train(input_fn=input_fn, steps=1000)\n",
    "\n",
    "# Here we evaluate how well our model did.\n",
    "train_metrics = estimator.evaluate(input_fn=train_input_fn)\n",
    "eval_metrics = estimator.evaluate(input_fn=eval_input_fn)\n",
    "print(\"train metrics: %r\"% train_metrics)\n",
    "print(\"eval metrics: %r\"% eval_metrics)\n"
   ]
  },
  {
   "cell_type": "code",
   "execution_count": null,
   "metadata": {},
   "outputs": [],
   "source": []
  }
 ],
 "metadata": {
  "kernelspec": {
   "display_name": "Python 2",
   "language": "python",
   "name": "python2"
  },
  "language_info": {
   "codemirror_mode": {
    "name": "ipython",
    "version": 2
   },
   "file_extension": ".py",
   "mimetype": "text/x-python",
   "name": "python",
   "nbconvert_exporter": "python",
   "pygments_lexer": "ipython2",
   "version": "2.7.12"
  }
 },
 "nbformat": 4,
 "nbformat_minor": 2
}
